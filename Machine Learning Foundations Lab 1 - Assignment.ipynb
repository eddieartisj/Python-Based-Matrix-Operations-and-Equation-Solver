{
 "cells": [
  {
   "cell_type": "markdown",
   "metadata": {
    "id": "zud7lUK4OWnc"
   },
   "source": [
    "# Task 1: Matrix Addition"
   ]
  },
  {
   "cell_type": "code",
   "execution_count": 1,
   "metadata": {
    "id": "ZgksBYPtMvAE"
   },
   "outputs": [],
   "source": [
    "def matrix_add(A, B):\n",
    "    # Get the number of rows and columns in matrix A\n",
    "    rows_A, cols_A = len(A), len(A[0])\n",
    "    # Get the number of rows and columns in matrix B\n",
    "    rows_B, cols_B = len(B), len(B[0])\n",
    "\n",
    "    # Initialize a result matrix of the same size filled with zeros\n",
    "    rest = [[0 for _ in range(cols_A)] for _ in range(rows_B)]\n",
    "\n",
    "    # Iterate through each row and column\n",
    "    for i in range(rows_A):\n",
    "        for j in range(cols_A):\n",
    "            # Perform element-wise addition\n",
    "            rest[i][j] = A[i][j] + B[i][j]\n",
    "    return rest"
   ]
  },
  {
   "cell_type": "code",
   "execution_count": 2,
   "metadata": {
    "colab": {
     "base_uri": "https://localhost:8080/"
    },
    "id": "BCMEGavEOPyM",
    "outputId": "ade8b986-92f1-49f5-fe01-0d26b31caa5d"
   },
   "outputs": [
    {
     "name": "stdout",
     "output_type": "stream",
     "text": [
      "[17, 15, 4]\n",
      "[10, 12, 9]\n",
      "[11, 13, 18]\n"
     ]
    }
   ],
   "source": [
    "# Sample matrices for addition\n",
    "X = [[12, 7, 3],\n",
    "     [4, 5, 6],\n",
    "     [7, 8, 9]]\n",
    "\n",
    "Y = [[5, 8, 1],\n",
    "     [6, 7, 3],\n",
    "     [4, 5, 9]]\n",
    "\n",
    "# Perform addition\n",
    "res = matrix_add(X, Y)\n",
    "\n",
    "# Print the resulting matrix\n",
    "for r in res:\n",
    "    print(r)"
   ]
  },
  {
   "cell_type": "code",
   "execution_count": 12,
   "metadata": {
    "id": "51lWIxNWTKJG"
   },
   "outputs": [],
   "source": [
    "def matrix_add(A, B):\n",
    "    # Get the dimensions of matrix A\n",
    "    rows_A, cols_A = len(A), len(A[0])\n",
    "    # Get the dimensions of matrix B\n",
    "    rows_B, cols_B = len(B), len(B[0])\n",
    "\n",
    "    # Create a result matrix (initialized with zeros) of the same size\n",
    "    rest = [[0 for _ in range(cols_A)] for _ in range(rows_B)]\n",
    "\n",
    "    # Check if matrices have the same dimensions\n",
    "    if (rows_A == rows_B) and (cols_A == cols_B):\n",
    "        # Loop through each element of the matrices\n",
    "        for i in range(rows_A):\n",
    "            for j in range(cols_A):\n",
    "                # Add corresponding elements from A and B\n",
    "                rest[i][j] = A[i][j] + B[i][j]\n",
    "        # Return the result matrix after addition\n",
    "        return rest\n",
    "    else:\n",
    "        # Print error message if dimensions do not match\n",
    "        print(\"Dimensions NOT Match\")\n",
    "        return None"
   ]
  },
  {
   "cell_type": "code",
   "execution_count": 14,
   "metadata": {
    "colab": {
     "base_uri": "https://localhost:8080/"
    },
    "id": "KtaJ3xC8VM6g",
    "outputId": "0e00deac-3c08-4b89-a736-e7e0e27028b3"
   },
   "outputs": [
    {
     "name": "stdout",
     "output_type": "stream",
     "text": [
      "Dimensions NOT Match\n"
     ]
    }
   ],
   "source": [
    "# Sample matrices with an added row to X to misalign dimensions\n",
    "X = [[12,7,3],\n",
    "     [4 ,5,6],\n",
    "     [7 ,8,9],\n",
    "     [1,2,3]]\n",
    "\n",
    "Y = [[5,8,1],\n",
    "    [6,7,3],\n",
    "    [4,5,9]]\n",
    "\n",
    "# Perform addition\n",
    "res = matrix_add(X, Y)\n",
    "\n",
    "# If matrix_add returned a valid result (not None), print each row of the result matrix\n",
    "if res != None:\n",
    "  for r in res:\n",
    "      print(r)"
   ]
  },
  {
   "cell_type": "markdown",
   "metadata": {
    "id": "Fzu_90YZP78d"
   },
   "source": [
    "# Task 2: Matrix Subtraction"
   ]
  },
  {
   "cell_type": "code",
   "execution_count": 3,
   "metadata": {
    "id": "CJmLWOoQQFDd"
   },
   "outputs": [],
   "source": [
    "def matrix_subtraction(A, B):\n",
    "    # Get dimensions of matrix A\n",
    "    rows_A, cols_A = len(A), len(A[0])\n",
    "    # Get dimensions of matrix B\n",
    "    rows_B, cols_B = len(B), len(B[0])\n",
    "\n",
    "    # Initialize result matrix with zeros\n",
    "    rest = [[0 for _ in range(cols_A)] for _ in range(rows_B)]\n",
    "\n",
    "    # Iterate and perform element-wise subtraction\n",
    "    for i in range(rows_A):\n",
    "        for j in range(cols_A):\n",
    "            rest[i][j] = A[i][j] - B[i][j]\n",
    "    return rest"
   ]
  },
  {
   "cell_type": "code",
   "execution_count": 7,
   "metadata": {
    "colab": {
     "base_uri": "https://localhost:8080/"
    },
    "id": "vl88JReCReqY",
    "outputId": "6e34aa3b-9343-4ccf-c7b6-38a624a795db"
   },
   "outputs": [
    {
     "name": "stdout",
     "output_type": "stream",
     "text": [
      "[7, -1, 2]\n",
      "[-2, -2, 3]\n",
      "[3, 3, 0]\n"
     ]
    }
   ],
   "source": [
    "# Sample matrices for subtraction\n",
    "X = [[12, 7, 3],\n",
    "     [4, 5, 6],\n",
    "     [7, 8, 9]]\n",
    "\n",
    "Y = [[5, 8, 1],\n",
    "     [6, 7, 3],\n",
    "     [4, 5, 9]]\n",
    "\n",
    "# Perform subtraction\n",
    "res = matrix_subtraction(X, Y)\n",
    "\n",
    "# Print the resulting matrix\n",
    "for r in res:\n",
    "    print(r)"
   ]
  },
  {
   "cell_type": "markdown",
   "metadata": {
    "id": "umMZiELNS3en"
   },
   "source": [
    "# Task 3: Matrix Multiplication"
   ]
  },
  {
   "cell_type": "code",
   "execution_count": 4,
   "metadata": {
    "id": "tYUr4N-SXGV8"
   },
   "outputs": [],
   "source": [
    "def matrix_mult(A, B):\n",
    "    # Get the dimensions of the matrices\n",
    "    rows_A, cols_A = len(A), len(A[0])\n",
    "    rows_B, cols_B = len(B), len(B[0])\n",
    "\n",
    "    # Initialize the result matrix\n",
    "    rest = [[0 for _ in range(cols_B)] for _ in range(rows_A)]\n",
    "\n",
    "    # Perform matrix multiplication using triple nested loop\n",
    "    if (cols_A == rows_B):\n",
    "      for i in range(rows_A):\n",
    "        for j in range(cols_B):\n",
    "          for k in range(cols_A):\n",
    "            rest[i][j] += A[i][k] * B[k][j]\n",
    "      return rest\n",
    "    else:\n",
    "      print(\"Dimensions NOT Match\")\n",
    "      return None"
   ]
  },
  {
   "cell_type": "code",
   "execution_count": 5,
   "metadata": {
    "colab": {
     "base_uri": "https://localhost:8080/"
    },
    "id": "Dv8b3NGklCuB",
    "outputId": "e302c91b-1dda-4ad4-8ef2-62d54272176d"
   },
   "outputs": [
    {
     "name": "stdout",
     "output_type": "stream",
     "text": [
      "[55, 65, 49, 5]\n",
      "[57, 68, 72, 12]\n",
      "[90, 107, 111, 21]\n"
     ]
    }
   ],
   "source": [
    "# Sample matrices for multiplication\n",
    "A = [[1, 7, 3],\n",
    "     [3, 5, 6],\n",
    "     [6, 8, 9]]\n",
    "\n",
    "B = [[1, 1, 1, 2],\n",
    "     [6, 7, 3, 0],\n",
    "     [4, 5, 9, 1]]\n",
    "\n",
    "# Perform multiplication\n",
    "res = matrix_mult(A, B)\n",
    "\n",
    "# Print the resulting matrix\n",
    "for r in res:\n",
    "    print(r)"
   ]
  },
  {
   "cell_type": "code",
   "execution_count": 48,
   "metadata": {
    "colab": {
     "base_uri": "https://localhost:8080/"
    },
    "id": "d1V4wTy6lovK",
    "outputId": "aa4fd333-079e-42eb-ab1e-0d9bdef83997"
   },
   "outputs": [
    {
     "name": "stdout",
     "output_type": "stream",
     "text": [
      "Dimensions NOT Match\n"
     ]
    }
   ],
   "source": [
    "A = [[1, 7, 3, 4],\n",
    "     [3, 5, 6, 4],\n",
    "     [6, 8, 9, 4]]\n",
    "B = [[1, 1, 1, 2],\n",
    "     [6, 7, 3, 0],\n",
    "     [4, 5, 9, 1]]\n",
    "\n",
    "res = matrix_mult(A, B)\n",
    "\n",
    "if res != None:\n",
    "  for r in res:\n",
    "      print(r)"
   ]
  },
  {
   "cell_type": "markdown",
   "metadata": {
    "id": "Qex-nLiVmOn3"
   },
   "source": [
    "# Task 4: Linear Regression"
   ]
  },
  {
   "cell_type": "code",
   "execution_count": 6,
   "metadata": {
    "id": "LoOOh8RxmSdf"
   },
   "outputs": [],
   "source": [
    "# Transpose a matrix (rows become columns)\n",
    "def transpose_matrix(matrix):\n",
    "    return list(map(list, zip(*matrix)))\n",
    "\n",
    "\n",
    "# Compute the minor of a matrix by removing row i and column j\n",
    "def minor(matrix, i, j):\n",
    "    return [row[:j] + row[j+1:] for row in (matrix[:i] + matrix[i+1:])]\n",
    "\n",
    "\n",
    "# Recursive function to compute the determinant of a matrix\n",
    "def determinant(matrix):\n",
    "    if len(matrix) == 1:\n",
    "        return matrix[0][0]\n",
    "\n",
    "    det = 0\n",
    "    for j in range(len(matrix)):\n",
    "        # Use cofactor expansion to compute determinant\n",
    "        det += ((-1)**j) * matrix[0][j] * determinant(minor(matrix, 0, j))\n",
    "    return det\n",
    "\n",
    "\n",
    "# Compute the inverse of a matrix\n",
    "def inverse_matrix(matrix):\n",
    "    n = len(matrix)\n",
    "    det_A = determinant(matrix)\n",
    "\n",
    "    # If determinant is zero, the matrix is not invertible\n",
    "    if det_A == 0:\n",
    "        print(\"Matrix is not invertible (determinant is zero).\")\n",
    "        exit()\n",
    "\n",
    "    adjoint = []\n",
    "    for i in range(n):\n",
    "        row = []\n",
    "        for j in range(n):\n",
    "            # Calculate cofactor for element (i,j)\n",
    "            cofactor = ((-1)**(i + j)) * determinant(minor(matrix, i, j))\n",
    "            row.append(cofactor / det_A)\n",
    "        adjoint.append(row)\n",
    "\n",
    "    # Return the transpose of the cofactor matrix divided by determinant\n",
    "    return transpose_matrix(adjoint)"
   ]
  },
  {
   "cell_type": "code",
   "execution_count": 8,
   "metadata": {
    "colab": {
     "base_uri": "https://localhost:8080/"
    },
    "id": "DcoF4TalnbVb",
    "outputId": "9d35cc56-b904-4488-90c6-a591a0f85995"
   },
   "outputs": [
    {
     "name": "stdout",
     "output_type": "stream",
     "text": [
      "x1 =  0.9999999999999999\n",
      "x2 =  0.24999999999999997\n"
     ]
    }
   ],
   "source": [
    "# Define the coefficient matrix A and contant matrix B\n",
    "\n",
    "# Matrix A is 2x2\n",
    "A = [[4,4],\n",
    "     [2, -4]]\n",
    "\n",
    "# Matrix b is a column vector, which is 2x1 (2 rows, (5) and (1))\n",
    "B = [[5],\n",
    "     [1]]\n",
    "\n",
    "# Compute the inverse of A\n",
    "# Multiply inverse of A with b to solve for x\n",
    "inv_A = inverse_matrix(A)\n",
    "x = matrix_mult(inv_A, B)\n",
    "\n",
    "print(\"x1 = \", x[0][0])\n",
    "print(\"x2 = \", x[1][0])"
   ]
  }
 ],
 "metadata": {
  "colab": {
   "provenance": []
  },
  "kernelspec": {
   "display_name": "Python 3 (ipykernel)",
   "language": "python",
   "name": "python3"
  },
  "language_info": {
   "codemirror_mode": {
    "name": "ipython",
    "version": 3
   },
   "file_extension": ".py",
   "mimetype": "text/x-python",
   "name": "python",
   "nbconvert_exporter": "python",
   "pygments_lexer": "ipython3",
   "version": "3.9.13"
  }
 },
 "nbformat": 4,
 "nbformat_minor": 1
}
